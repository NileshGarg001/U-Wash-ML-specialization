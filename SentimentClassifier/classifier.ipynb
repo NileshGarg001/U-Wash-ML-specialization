{
 "cells": [
  {
   "attachments": {},
   "cell_type": "markdown",
   "metadata": {},
   "source": [
    "# Baby Product Sentiment Predictions "
   ]
  },
  {
   "cell_type": "code",
   "execution_count": 52,
   "metadata": {},
   "outputs": [],
   "source": [
    "import pandas as pd "
   ]
  },
  {
   "cell_type": "code",
   "execution_count": 53,
   "metadata": {},
   "outputs": [],
   "source": [
    "baby_df = pd.read_csv(\"amazon_baby.csv\")"
   ]
  },
  {
   "cell_type": "code",
   "execution_count": 54,
   "metadata": {},
   "outputs": [
    {
     "data": {
      "text/html": [
       "<div>\n",
       "<style scoped>\n",
       "    .dataframe tbody tr th:only-of-type {\n",
       "        vertical-align: middle;\n",
       "    }\n",
       "\n",
       "    .dataframe tbody tr th {\n",
       "        vertical-align: top;\n",
       "    }\n",
       "\n",
       "    .dataframe thead th {\n",
       "        text-align: right;\n",
       "    }\n",
       "</style>\n",
       "<table border=\"1\" class=\"dataframe\">\n",
       "  <thead>\n",
       "    <tr style=\"text-align: right;\">\n",
       "      <th></th>\n",
       "      <th>name</th>\n",
       "      <th>review</th>\n",
       "      <th>rating</th>\n",
       "    </tr>\n",
       "  </thead>\n",
       "  <tbody>\n",
       "    <tr>\n",
       "      <th>0</th>\n",
       "      <td>Planetwise Flannel Wipes</td>\n",
       "      <td>These flannel wipes are OK, but in my opinion ...</td>\n",
       "      <td>3</td>\n",
       "    </tr>\n",
       "    <tr>\n",
       "      <th>1</th>\n",
       "      <td>Planetwise Wipe Pouch</td>\n",
       "      <td>it came early and was not disappointed. i love...</td>\n",
       "      <td>5</td>\n",
       "    </tr>\n",
       "    <tr>\n",
       "      <th>2</th>\n",
       "      <td>Annas Dream Full Quilt with 2 Shams</td>\n",
       "      <td>Very soft and comfortable and warmer than it l...</td>\n",
       "      <td>5</td>\n",
       "    </tr>\n",
       "    <tr>\n",
       "      <th>3</th>\n",
       "      <td>Stop Pacifier Sucking without tears with Thumb...</td>\n",
       "      <td>This is a product well worth the purchase.  I ...</td>\n",
       "      <td>5</td>\n",
       "    </tr>\n",
       "    <tr>\n",
       "      <th>4</th>\n",
       "      <td>Stop Pacifier Sucking without tears with Thumb...</td>\n",
       "      <td>All of my kids have cried non-stop when I trie...</td>\n",
       "      <td>5</td>\n",
       "    </tr>\n",
       "  </tbody>\n",
       "</table>\n",
       "</div>"
      ],
      "text/plain": [
       "                                                name  \\\n",
       "0                           Planetwise Flannel Wipes   \n",
       "1                              Planetwise Wipe Pouch   \n",
       "2                Annas Dream Full Quilt with 2 Shams   \n",
       "3  Stop Pacifier Sucking without tears with Thumb...   \n",
       "4  Stop Pacifier Sucking without tears with Thumb...   \n",
       "\n",
       "                                              review  rating  \n",
       "0  These flannel wipes are OK, but in my opinion ...       3  \n",
       "1  it came early and was not disappointed. i love...       5  \n",
       "2  Very soft and comfortable and warmer than it l...       5  \n",
       "3  This is a product well worth the purchase.  I ...       5  \n",
       "4  All of my kids have cried non-stop when I trie...       5  "
      ]
     },
     "execution_count": 54,
     "metadata": {},
     "output_type": "execute_result"
    }
   ],
   "source": [
    "baby_df.head()"
   ]
  },
  {
   "attachments": {},
   "cell_type": "markdown",
   "metadata": {},
   "source": [
    "## Building Model Based on Selected Words "
   ]
  },
  {
   "cell_type": "code",
   "execution_count": 55,
   "metadata": {},
   "outputs": [],
   "source": [
    "selected_words = ['awesome', 'great', 'fantastic', 'amazing', 'love', 'horrible', 'bad', 'terrible', 'awful', 'wow', 'hate']"
   ]
  },
  {
   "cell_type": "code",
   "execution_count": 56,
   "metadata": {},
   "outputs": [],
   "source": [
    "import re\n",
    "def count_words(sentence):\n",
    "    if not isinstance(sentence, str):\n",
    "        sentence = str(sentence)\n",
    "    sentence = re.sub(r'[^\\w\\s]', '', sentence)\n",
    "    l = sentence.split()\n",
    "    dic = {}\n",
    "    for a in selected_words:\n",
    "        dic[a] = 0\n",
    "    for x in l:\n",
    "        for a in selected_words:\n",
    "            if a == x:\n",
    "                dic[a] += 1\n",
    "                break\n",
    "    return dic"
   ]
  },
  {
   "cell_type": "code",
   "execution_count": 57,
   "metadata": {},
   "outputs": [],
   "source": [
    "baby_df['word_count']  = baby_df['review'].apply(count_words)"
   ]
  },
  {
   "cell_type": "code",
   "execution_count": 58,
   "metadata": {},
   "outputs": [
    {
     "data": {
      "text/html": [
       "<div>\n",
       "<style scoped>\n",
       "    .dataframe tbody tr th:only-of-type {\n",
       "        vertical-align: middle;\n",
       "    }\n",
       "\n",
       "    .dataframe tbody tr th {\n",
       "        vertical-align: top;\n",
       "    }\n",
       "\n",
       "    .dataframe thead th {\n",
       "        text-align: right;\n",
       "    }\n",
       "</style>\n",
       "<table border=\"1\" class=\"dataframe\">\n",
       "  <thead>\n",
       "    <tr style=\"text-align: right;\">\n",
       "      <th></th>\n",
       "      <th>name</th>\n",
       "      <th>review</th>\n",
       "      <th>rating</th>\n",
       "      <th>word_count</th>\n",
       "    </tr>\n",
       "  </thead>\n",
       "  <tbody>\n",
       "    <tr>\n",
       "      <th>0</th>\n",
       "      <td>Planetwise Flannel Wipes</td>\n",
       "      <td>These flannel wipes are OK, but in my opinion ...</td>\n",
       "      <td>3</td>\n",
       "      <td>{'awesome': 0, 'great': 0, 'fantastic': 0, 'am...</td>\n",
       "    </tr>\n",
       "    <tr>\n",
       "      <th>1</th>\n",
       "      <td>Planetwise Wipe Pouch</td>\n",
       "      <td>it came early and was not disappointed. i love...</td>\n",
       "      <td>5</td>\n",
       "      <td>{'awesome': 0, 'great': 0, 'fantastic': 0, 'am...</td>\n",
       "    </tr>\n",
       "    <tr>\n",
       "      <th>2</th>\n",
       "      <td>Annas Dream Full Quilt with 2 Shams</td>\n",
       "      <td>Very soft and comfortable and warmer than it l...</td>\n",
       "      <td>5</td>\n",
       "      <td>{'awesome': 0, 'great': 0, 'fantastic': 0, 'am...</td>\n",
       "    </tr>\n",
       "    <tr>\n",
       "      <th>3</th>\n",
       "      <td>Stop Pacifier Sucking without tears with Thumb...</td>\n",
       "      <td>This is a product well worth the purchase.  I ...</td>\n",
       "      <td>5</td>\n",
       "      <td>{'awesome': 0, 'great': 0, 'fantastic': 0, 'am...</td>\n",
       "    </tr>\n",
       "    <tr>\n",
       "      <th>4</th>\n",
       "      <td>Stop Pacifier Sucking without tears with Thumb...</td>\n",
       "      <td>All of my kids have cried non-stop when I trie...</td>\n",
       "      <td>5</td>\n",
       "      <td>{'awesome': 0, 'great': 1, 'fantastic': 0, 'am...</td>\n",
       "    </tr>\n",
       "  </tbody>\n",
       "</table>\n",
       "</div>"
      ],
      "text/plain": [
       "                                                name  \\\n",
       "0                           Planetwise Flannel Wipes   \n",
       "1                              Planetwise Wipe Pouch   \n",
       "2                Annas Dream Full Quilt with 2 Shams   \n",
       "3  Stop Pacifier Sucking without tears with Thumb...   \n",
       "4  Stop Pacifier Sucking without tears with Thumb...   \n",
       "\n",
       "                                              review  rating  \\\n",
       "0  These flannel wipes are OK, but in my opinion ...       3   \n",
       "1  it came early and was not disappointed. i love...       5   \n",
       "2  Very soft and comfortable and warmer than it l...       5   \n",
       "3  This is a product well worth the purchase.  I ...       5   \n",
       "4  All of my kids have cried non-stop when I trie...       5   \n",
       "\n",
       "                                          word_count  \n",
       "0  {'awesome': 0, 'great': 0, 'fantastic': 0, 'am...  \n",
       "1  {'awesome': 0, 'great': 0, 'fantastic': 0, 'am...  \n",
       "2  {'awesome': 0, 'great': 0, 'fantastic': 0, 'am...  \n",
       "3  {'awesome': 0, 'great': 0, 'fantastic': 0, 'am...  \n",
       "4  {'awesome': 0, 'great': 1, 'fantastic': 0, 'am...  "
      ]
     },
     "execution_count": 58,
     "metadata": {},
     "output_type": "execute_result"
    }
   ],
   "source": [
    "baby_df.head()"
   ]
  },
  {
   "cell_type": "code",
   "execution_count": 59,
   "metadata": {},
   "outputs": [],
   "source": [
    "baby_df = baby_df[baby_df['rating'] != 3]"
   ]
  },
  {
   "cell_type": "code",
   "execution_count": 60,
   "metadata": {},
   "outputs": [],
   "source": [
    "baby_df['sentiment'] = baby_df['rating'] >= 4"
   ]
  },
  {
   "cell_type": "code",
   "execution_count": 61,
   "metadata": {},
   "outputs": [],
   "source": [
    "from sklearn.model_selection import train_test_split\n",
    "from sklearn.linear_model import LogisticRegression\n",
    "from sklearn.metrics import accuracy_score\n",
    "from sklearn.metrics import confusion_matrix\n"
   ]
  },
  {
   "cell_type": "code",
   "execution_count": 62,
   "metadata": {},
   "outputs": [
    {
     "data": {
      "text/plain": [
       "awesome       3078\n",
       "great        46018\n",
       "fantastic     1418\n",
       "amazing       2148\n",
       "love         32999\n",
       "horrible       940\n",
       "bad           3911\n",
       "terrible       970\n",
       "awful          565\n",
       "wow             97\n",
       "hate           970\n",
       "dtype: int64"
      ]
     },
     "execution_count": 62,
     "metadata": {},
     "output_type": "execute_result"
    }
   ],
   "source": [
    "X = pd.DataFrame.from_records(baby_df['word_count'].values)\n",
    "y = baby_df['sentiment']\n",
    "X.head()\n",
    "X.sum()"
   ]
  },
  {
   "attachments": {},
   "cell_type": "markdown",
   "metadata": {},
   "source": [
    "Wow is least used among selected words "
   ]
  },
  {
   "cell_type": "code",
   "execution_count": 63,
   "metadata": {},
   "outputs": [],
   "source": [
    "X_train, X_test, y_train, y_test = train_test_split(X, y, test_size=0.2, random_state= 0)"
   ]
  },
  {
   "cell_type": "code",
   "execution_count": 64,
   "metadata": {},
   "outputs": [
    {
     "data": {
      "text/html": [
       "<style>#sk-container-id-5 {color: black;background-color: white;}#sk-container-id-5 pre{padding: 0;}#sk-container-id-5 div.sk-toggleable {background-color: white;}#sk-container-id-5 label.sk-toggleable__label {cursor: pointer;display: block;width: 100%;margin-bottom: 0;padding: 0.3em;box-sizing: border-box;text-align: center;}#sk-container-id-5 label.sk-toggleable__label-arrow:before {content: \"▸\";float: left;margin-right: 0.25em;color: #696969;}#sk-container-id-5 label.sk-toggleable__label-arrow:hover:before {color: black;}#sk-container-id-5 div.sk-estimator:hover label.sk-toggleable__label-arrow:before {color: black;}#sk-container-id-5 div.sk-toggleable__content {max-height: 0;max-width: 0;overflow: hidden;text-align: left;background-color: #f0f8ff;}#sk-container-id-5 div.sk-toggleable__content pre {margin: 0.2em;color: black;border-radius: 0.25em;background-color: #f0f8ff;}#sk-container-id-5 input.sk-toggleable__control:checked~div.sk-toggleable__content {max-height: 200px;max-width: 100%;overflow: auto;}#sk-container-id-5 input.sk-toggleable__control:checked~label.sk-toggleable__label-arrow:before {content: \"▾\";}#sk-container-id-5 div.sk-estimator input.sk-toggleable__control:checked~label.sk-toggleable__label {background-color: #d4ebff;}#sk-container-id-5 div.sk-label input.sk-toggleable__control:checked~label.sk-toggleable__label {background-color: #d4ebff;}#sk-container-id-5 input.sk-hidden--visually {border: 0;clip: rect(1px 1px 1px 1px);clip: rect(1px, 1px, 1px, 1px);height: 1px;margin: -1px;overflow: hidden;padding: 0;position: absolute;width: 1px;}#sk-container-id-5 div.sk-estimator {font-family: monospace;background-color: #f0f8ff;border: 1px dotted black;border-radius: 0.25em;box-sizing: border-box;margin-bottom: 0.5em;}#sk-container-id-5 div.sk-estimator:hover {background-color: #d4ebff;}#sk-container-id-5 div.sk-parallel-item::after {content: \"\";width: 100%;border-bottom: 1px solid gray;flex-grow: 1;}#sk-container-id-5 div.sk-label:hover label.sk-toggleable__label {background-color: #d4ebff;}#sk-container-id-5 div.sk-serial::before {content: \"\";position: absolute;border-left: 1px solid gray;box-sizing: border-box;top: 0;bottom: 0;left: 50%;z-index: 0;}#sk-container-id-5 div.sk-serial {display: flex;flex-direction: column;align-items: center;background-color: white;padding-right: 0.2em;padding-left: 0.2em;position: relative;}#sk-container-id-5 div.sk-item {position: relative;z-index: 1;}#sk-container-id-5 div.sk-parallel {display: flex;align-items: stretch;justify-content: center;background-color: white;position: relative;}#sk-container-id-5 div.sk-item::before, #sk-container-id-5 div.sk-parallel-item::before {content: \"\";position: absolute;border-left: 1px solid gray;box-sizing: border-box;top: 0;bottom: 0;left: 50%;z-index: -1;}#sk-container-id-5 div.sk-parallel-item {display: flex;flex-direction: column;z-index: 1;position: relative;background-color: white;}#sk-container-id-5 div.sk-parallel-item:first-child::after {align-self: flex-end;width: 50%;}#sk-container-id-5 div.sk-parallel-item:last-child::after {align-self: flex-start;width: 50%;}#sk-container-id-5 div.sk-parallel-item:only-child::after {width: 0;}#sk-container-id-5 div.sk-dashed-wrapped {border: 1px dashed gray;margin: 0 0.4em 0.5em 0.4em;box-sizing: border-box;padding-bottom: 0.4em;background-color: white;}#sk-container-id-5 div.sk-label label {font-family: monospace;font-weight: bold;display: inline-block;line-height: 1.2em;}#sk-container-id-5 div.sk-label-container {text-align: center;}#sk-container-id-5 div.sk-container {/* jupyter's `normalize.less` sets `[hidden] { display: none; }` but bootstrap.min.css set `[hidden] { display: none !important; }` so we also need the `!important` here to be able to override the default hidden behavior on the sphinx rendered scikit-learn.org. See: https://github.com/scikit-learn/scikit-learn/issues/21755 */display: inline-block !important;position: relative;}#sk-container-id-5 div.sk-text-repr-fallback {display: none;}</style><div id=\"sk-container-id-5\" class=\"sk-top-container\"><div class=\"sk-text-repr-fallback\"><pre>LogisticRegression()</pre><b>In a Jupyter environment, please rerun this cell to show the HTML representation or trust the notebook. <br />On GitHub, the HTML representation is unable to render, please try loading this page with nbviewer.org.</b></div><div class=\"sk-container\" hidden><div class=\"sk-item\"><div class=\"sk-estimator sk-toggleable\"><input class=\"sk-toggleable__control sk-hidden--visually\" id=\"sk-estimator-id-5\" type=\"checkbox\" checked><label for=\"sk-estimator-id-5\" class=\"sk-toggleable__label sk-toggleable__label-arrow\">LogisticRegression</label><div class=\"sk-toggleable__content\"><pre>LogisticRegression()</pre></div></div></div></div></div>"
      ],
      "text/plain": [
       "LogisticRegression()"
      ]
     },
     "execution_count": 64,
     "metadata": {},
     "output_type": "execute_result"
    }
   ],
   "source": [
    "model = LogisticRegression()\n",
    "model.fit(X_train, y_train)"
   ]
  },
  {
   "cell_type": "code",
   "execution_count": 65,
   "metadata": {},
   "outputs": [],
   "source": [
    "y_pred = model.predict(X_test)"
   ]
  },
  {
   "cell_type": "code",
   "execution_count": 66,
   "metadata": {},
   "outputs": [
    {
     "name": "stdout",
     "output_type": "stream",
     "text": [
      "Accuracy: 0.843213097058559\n"
     ]
    }
   ],
   "source": [
    "accuracy = accuracy_score(y_test, y_pred)\n",
    "print('Accuracy:', accuracy)"
   ]
  },
  {
   "attachments": {},
   "cell_type": "markdown",
   "metadata": {},
   "source": [
    "#### Confusion Matrix \n",
    "[[true negatives   false positives]\n",
    " [false negatives  true positives]]"
   ]
  },
  {
   "cell_type": "code",
   "execution_count": 67,
   "metadata": {},
   "outputs": [
    {
     "name": "stdout",
     "output_type": "stream",
     "text": [
      "Confusion Matrix:\n",
      "[[  248  5114]\n",
      " [  115 27874]]\n"
     ]
    }
   ],
   "source": [
    "cm = confusion_matrix(y_test, y_pred)\n",
    "print('Confusion Matrix:')\n",
    "print(cm)"
   ]
  },
  {
   "cell_type": "code",
   "execution_count": 68,
   "metadata": {},
   "outputs": [
    {
     "name": "stdout",
     "output_type": "stream",
     "text": [
      "awesome : 1.0997484097414962\n",
      "great : 0.7575463653703902\n",
      "fantastic : 0.8150913743209977\n",
      "amazing : 1.024447896157856\n",
      "love : 1.321700251833197\n",
      "horrible : -2.2154777850866108\n",
      "bad : -0.9513980838100635\n",
      "terrible : -2.0706322192278392\n",
      "awful : -1.996044612124784\n",
      "wow : -0.5183419795710714\n",
      "hate : -1.3858945113925556\n"
     ]
    }
   ],
   "source": [
    "feature_names = X.columns\n",
    "coefficients = model.coef_[0]\n",
    "\n",
    "# Create a dictionary to store word-weight pairs\n",
    "word_weights = dict(zip(feature_names, coefficients))\n",
    "\n",
    "# Print the word-weight pairs\n",
    "for word, weight in word_weights.items():\n",
    "    print(word, ':', weight)"
   ]
  },
  {
   "attachments": {},
   "cell_type": "markdown",
   "metadata": {},
   "source": [
    "### Majority Class Classifier Accuracy "
   ]
  },
  {
   "cell_type": "code",
   "execution_count": 18,
   "metadata": {},
   "outputs": [
    {
     "data": {
      "text/plain": [
       "0.8411233448474381"
      ]
     },
     "execution_count": 18,
     "metadata": {},
     "output_type": "execute_result"
    }
   ],
   "source": [
    "baby_df['sentiment'].mean()"
   ]
  },
  {
   "attachments": {},
   "cell_type": "markdown",
   "metadata": {},
   "source": [
    "## Building a complete sentimental model "
   ]
  },
  {
   "cell_type": "code",
   "execution_count": 72,
   "metadata": {},
   "outputs": [],
   "source": [
    "# Filling all null reviews \n",
    "baby_df['review'].fillna(\"   \", inplace=True)"
   ]
  },
  {
   "cell_type": "code",
   "execution_count": 74,
   "metadata": {},
   "outputs": [],
   "source": [
    "from sklearn.feature_extraction.text import CountVectorizer\n",
    "\n",
    "vectorizer = CountVectorizer()\n",
    "X = vectorizer.fit_transform(baby_df['review'])\n"
   ]
  },
  {
   "cell_type": "code",
   "execution_count": 75,
   "metadata": {},
   "outputs": [],
   "source": [
    "y = baby_df['sentiment']"
   ]
  },
  {
   "cell_type": "code",
   "execution_count": 76,
   "metadata": {},
   "outputs": [],
   "source": [
    "X_train, X_test, y_train, y_test = train_test_split(X, y, test_size=0.2, random_state=0)"
   ]
  },
  {
   "cell_type": "code",
   "execution_count": 77,
   "metadata": {},
   "outputs": [
    {
     "data": {
      "text/html": [
       "<style>#sk-container-id-6 {color: black;background-color: white;}#sk-container-id-6 pre{padding: 0;}#sk-container-id-6 div.sk-toggleable {background-color: white;}#sk-container-id-6 label.sk-toggleable__label {cursor: pointer;display: block;width: 100%;margin-bottom: 0;padding: 0.3em;box-sizing: border-box;text-align: center;}#sk-container-id-6 label.sk-toggleable__label-arrow:before {content: \"▸\";float: left;margin-right: 0.25em;color: #696969;}#sk-container-id-6 label.sk-toggleable__label-arrow:hover:before {color: black;}#sk-container-id-6 div.sk-estimator:hover label.sk-toggleable__label-arrow:before {color: black;}#sk-container-id-6 div.sk-toggleable__content {max-height: 0;max-width: 0;overflow: hidden;text-align: left;background-color: #f0f8ff;}#sk-container-id-6 div.sk-toggleable__content pre {margin: 0.2em;color: black;border-radius: 0.25em;background-color: #f0f8ff;}#sk-container-id-6 input.sk-toggleable__control:checked~div.sk-toggleable__content {max-height: 200px;max-width: 100%;overflow: auto;}#sk-container-id-6 input.sk-toggleable__control:checked~label.sk-toggleable__label-arrow:before {content: \"▾\";}#sk-container-id-6 div.sk-estimator input.sk-toggleable__control:checked~label.sk-toggleable__label {background-color: #d4ebff;}#sk-container-id-6 div.sk-label input.sk-toggleable__control:checked~label.sk-toggleable__label {background-color: #d4ebff;}#sk-container-id-6 input.sk-hidden--visually {border: 0;clip: rect(1px 1px 1px 1px);clip: rect(1px, 1px, 1px, 1px);height: 1px;margin: -1px;overflow: hidden;padding: 0;position: absolute;width: 1px;}#sk-container-id-6 div.sk-estimator {font-family: monospace;background-color: #f0f8ff;border: 1px dotted black;border-radius: 0.25em;box-sizing: border-box;margin-bottom: 0.5em;}#sk-container-id-6 div.sk-estimator:hover {background-color: #d4ebff;}#sk-container-id-6 div.sk-parallel-item::after {content: \"\";width: 100%;border-bottom: 1px solid gray;flex-grow: 1;}#sk-container-id-6 div.sk-label:hover label.sk-toggleable__label {background-color: #d4ebff;}#sk-container-id-6 div.sk-serial::before {content: \"\";position: absolute;border-left: 1px solid gray;box-sizing: border-box;top: 0;bottom: 0;left: 50%;z-index: 0;}#sk-container-id-6 div.sk-serial {display: flex;flex-direction: column;align-items: center;background-color: white;padding-right: 0.2em;padding-left: 0.2em;position: relative;}#sk-container-id-6 div.sk-item {position: relative;z-index: 1;}#sk-container-id-6 div.sk-parallel {display: flex;align-items: stretch;justify-content: center;background-color: white;position: relative;}#sk-container-id-6 div.sk-item::before, #sk-container-id-6 div.sk-parallel-item::before {content: \"\";position: absolute;border-left: 1px solid gray;box-sizing: border-box;top: 0;bottom: 0;left: 50%;z-index: -1;}#sk-container-id-6 div.sk-parallel-item {display: flex;flex-direction: column;z-index: 1;position: relative;background-color: white;}#sk-container-id-6 div.sk-parallel-item:first-child::after {align-self: flex-end;width: 50%;}#sk-container-id-6 div.sk-parallel-item:last-child::after {align-self: flex-start;width: 50%;}#sk-container-id-6 div.sk-parallel-item:only-child::after {width: 0;}#sk-container-id-6 div.sk-dashed-wrapped {border: 1px dashed gray;margin: 0 0.4em 0.5em 0.4em;box-sizing: border-box;padding-bottom: 0.4em;background-color: white;}#sk-container-id-6 div.sk-label label {font-family: monospace;font-weight: bold;display: inline-block;line-height: 1.2em;}#sk-container-id-6 div.sk-label-container {text-align: center;}#sk-container-id-6 div.sk-container {/* jupyter's `normalize.less` sets `[hidden] { display: none; }` but bootstrap.min.css set `[hidden] { display: none !important; }` so we also need the `!important` here to be able to override the default hidden behavior on the sphinx rendered scikit-learn.org. See: https://github.com/scikit-learn/scikit-learn/issues/21755 */display: inline-block !important;position: relative;}#sk-container-id-6 div.sk-text-repr-fallback {display: none;}</style><div id=\"sk-container-id-6\" class=\"sk-top-container\"><div class=\"sk-text-repr-fallback\"><pre>LogisticRegression(max_iter=1900)</pre><b>In a Jupyter environment, please rerun this cell to show the HTML representation or trust the notebook. <br />On GitHub, the HTML representation is unable to render, please try loading this page with nbviewer.org.</b></div><div class=\"sk-container\" hidden><div class=\"sk-item\"><div class=\"sk-estimator sk-toggleable\"><input class=\"sk-toggleable__control sk-hidden--visually\" id=\"sk-estimator-id-6\" type=\"checkbox\" checked><label for=\"sk-estimator-id-6\" class=\"sk-toggleable__label sk-toggleable__label-arrow\">LogisticRegression</label><div class=\"sk-toggleable__content\"><pre>LogisticRegression(max_iter=1900)</pre></div></div></div></div></div>"
      ],
      "text/plain": [
       "LogisticRegression(max_iter=1900)"
      ]
     },
     "execution_count": 77,
     "metadata": {},
     "output_type": "execute_result"
    }
   ],
   "source": [
    "model1 = LogisticRegression(max_iter=1900)\n",
    "model1.fit(X_train, y_train)"
   ]
  },
  {
   "cell_type": "code",
   "execution_count": 78,
   "metadata": {},
   "outputs": [
    {
     "name": "stdout",
     "output_type": "stream",
     "text": [
      "Accuracy: 0.9288776948217444\n"
     ]
    }
   ],
   "source": [
    "accuracy = model1.score(X_test, y_test)\n",
    "print('Accuracy:', accuracy)"
   ]
  },
  {
   "cell_type": "code",
   "execution_count": 79,
   "metadata": {},
   "outputs": [],
   "source": [
    "positive_probabilities = model1.predict_proba(X[:])[:, 1]\n",
    "baby_df['model1_pos_prob'] = positive_probabilities"
   ]
  },
  {
   "attachments": {},
   "cell_type": "markdown",
   "metadata": {},
   "source": [
    "## Showing why all words gives better performance "
   ]
  },
  {
   "cell_type": "code",
   "execution_count": 80,
   "metadata": {},
   "outputs": [
    {
     "data": {
      "text/html": [
       "<div>\n",
       "<style scoped>\n",
       "    .dataframe tbody tr th:only-of-type {\n",
       "        vertical-align: middle;\n",
       "    }\n",
       "\n",
       "    .dataframe tbody tr th {\n",
       "        vertical-align: top;\n",
       "    }\n",
       "\n",
       "    .dataframe thead th {\n",
       "        text-align: right;\n",
       "    }\n",
       "</style>\n",
       "<table border=\"1\" class=\"dataframe\">\n",
       "  <thead>\n",
       "    <tr style=\"text-align: right;\">\n",
       "      <th></th>\n",
       "      <th>name</th>\n",
       "      <th>review</th>\n",
       "      <th>rating</th>\n",
       "      <th>word_count</th>\n",
       "      <th>sentiment</th>\n",
       "      <th>model0_pos_prob</th>\n",
       "      <th>model1_pos_prob</th>\n",
       "    </tr>\n",
       "  </thead>\n",
       "  <tbody>\n",
       "    <tr>\n",
       "      <th>312</th>\n",
       "      <td>Baby Trend Diaper Champ</td>\n",
       "      <td>Ok - newsflash.  Diapers are just smelly.  We\\...</td>\n",
       "      <td>4</td>\n",
       "      <td>{'awesome': 0, 'great': 0, 'fantastic': 0, 'am...</td>\n",
       "      <td>True</td>\n",
       "      <td>0.806312</td>\n",
       "      <td>0.826491</td>\n",
       "    </tr>\n",
       "    <tr>\n",
       "      <th>314</th>\n",
       "      <td>Baby Trend Diaper Champ</td>\n",
       "      <td>My husband and I selected the Diaper \"Champ\" m...</td>\n",
       "      <td>1</td>\n",
       "      <td>{'awesome': 0, 'great': 0, 'fantastic': 0, 'am...</td>\n",
       "      <td>False</td>\n",
       "      <td>0.806312</td>\n",
       "      <td>0.030813</td>\n",
       "    </tr>\n",
       "    <tr>\n",
       "      <th>315</th>\n",
       "      <td>Baby Trend Diaper Champ</td>\n",
       "      <td>Excellent diaper disposal unit.  I used it in ...</td>\n",
       "      <td>5</td>\n",
       "      <td>{'awesome': 0, 'great': 0, 'fantastic': 0, 'am...</td>\n",
       "      <td>True</td>\n",
       "      <td>0.806312</td>\n",
       "      <td>0.999923</td>\n",
       "    </tr>\n",
       "    <tr>\n",
       "      <th>316</th>\n",
       "      <td>Baby Trend Diaper Champ</td>\n",
       "      <td>We love our diaper champ.  It is very easy to ...</td>\n",
       "      <td>5</td>\n",
       "      <td>{'awesome': 0, 'great': 0, 'fantastic': 0, 'am...</td>\n",
       "      <td>True</td>\n",
       "      <td>0.939796</td>\n",
       "      <td>0.994400</td>\n",
       "    </tr>\n",
       "    <tr>\n",
       "      <th>317</th>\n",
       "      <td>Baby Trend Diaper Champ</td>\n",
       "      <td>Two girlfriends and two family members put me ...</td>\n",
       "      <td>5</td>\n",
       "      <td>{'awesome': 0, 'great': 0, 'fantastic': 0, 'am...</td>\n",
       "      <td>True</td>\n",
       "      <td>0.558528</td>\n",
       "      <td>0.999312</td>\n",
       "    </tr>\n",
       "  </tbody>\n",
       "</table>\n",
       "</div>"
      ],
      "text/plain": [
       "                        name  \\\n",
       "312  Baby Trend Diaper Champ   \n",
       "314  Baby Trend Diaper Champ   \n",
       "315  Baby Trend Diaper Champ   \n",
       "316  Baby Trend Diaper Champ   \n",
       "317  Baby Trend Diaper Champ   \n",
       "\n",
       "                                                review  rating  \\\n",
       "312  Ok - newsflash.  Diapers are just smelly.  We\\...       4   \n",
       "314  My husband and I selected the Diaper \"Champ\" m...       1   \n",
       "315  Excellent diaper disposal unit.  I used it in ...       5   \n",
       "316  We love our diaper champ.  It is very easy to ...       5   \n",
       "317  Two girlfriends and two family members put me ...       5   \n",
       "\n",
       "                                            word_count  sentiment  \\\n",
       "312  {'awesome': 0, 'great': 0, 'fantastic': 0, 'am...       True   \n",
       "314  {'awesome': 0, 'great': 0, 'fantastic': 0, 'am...      False   \n",
       "315  {'awesome': 0, 'great': 0, 'fantastic': 0, 'am...       True   \n",
       "316  {'awesome': 0, 'great': 0, 'fantastic': 0, 'am...       True   \n",
       "317  {'awesome': 0, 'great': 0, 'fantastic': 0, 'am...       True   \n",
       "\n",
       "     model0_pos_prob  model1_pos_prob  \n",
       "312         0.806312         0.826491  \n",
       "314         0.806312         0.030813  \n",
       "315         0.806312         0.999923  \n",
       "316         0.939796         0.994400  \n",
       "317         0.558528         0.999312  "
      ]
     },
     "execution_count": 80,
     "metadata": {},
     "output_type": "execute_result"
    }
   ],
   "source": [
    "baby_trend = baby_df[baby_df['name'] == 'Baby Trend Diaper Champ']\n",
    "baby_trend.head()"
   ]
  },
  {
   "attachments": {},
   "cell_type": "markdown",
   "metadata": {},
   "source": [
    "Sorting the table by model 1 predicted positive probability"
   ]
  },
  {
   "cell_type": "code",
   "execution_count": 100,
   "metadata": {},
   "outputs": [],
   "source": [
    "baby_trend = baby_trend.sort_values(by = 'model1_pos_prob', ascending=False)\n"
   ]
  },
  {
   "cell_type": "code",
   "execution_count": 101,
   "metadata": {},
   "outputs": [
    {
     "data": {
      "text/html": [
       "<div>\n",
       "<style scoped>\n",
       "    .dataframe tbody tr th:only-of-type {\n",
       "        vertical-align: middle;\n",
       "    }\n",
       "\n",
       "    .dataframe tbody tr th {\n",
       "        vertical-align: top;\n",
       "    }\n",
       "\n",
       "    .dataframe thead th {\n",
       "        text-align: right;\n",
       "    }\n",
       "</style>\n",
       "<table border=\"1\" class=\"dataframe\">\n",
       "  <thead>\n",
       "    <tr style=\"text-align: right;\">\n",
       "      <th></th>\n",
       "      <th>name</th>\n",
       "      <th>review</th>\n",
       "      <th>rating</th>\n",
       "      <th>word_count</th>\n",
       "      <th>sentiment</th>\n",
       "      <th>model0_pos_prob</th>\n",
       "      <th>model1_pos_prob</th>\n",
       "    </tr>\n",
       "  </thead>\n",
       "  <tbody>\n",
       "    <tr>\n",
       "      <th>376</th>\n",
       "      <td>Baby Trend Diaper Champ</td>\n",
       "      <td>This is absolutely, by far, the best diaper pa...</td>\n",
       "      <td>5</td>\n",
       "      <td>{'awesome': 0, 'great': 0, 'fantastic': 0, 'am...</td>\n",
       "      <td>True</td>\n",
       "      <td>0.983203</td>\n",
       "      <td>1.0</td>\n",
       "    </tr>\n",
       "    <tr>\n",
       "      <th>320</th>\n",
       "      <td>Baby Trend Diaper Champ</td>\n",
       "      <td>I originally put this item on my baby registry...</td>\n",
       "      <td>5</td>\n",
       "      <td>{'awesome': 0, 'great': 0, 'fantastic': 0, 'am...</td>\n",
       "      <td>True</td>\n",
       "      <td>0.806312</td>\n",
       "      <td>1.0</td>\n",
       "    </tr>\n",
       "    <tr>\n",
       "      <th>451</th>\n",
       "      <td>Baby Trend Diaper Champ</td>\n",
       "      <td>As a first time mother, I wanted to get the be...</td>\n",
       "      <td>5</td>\n",
       "      <td>{'awesome': 0, 'great': 0, 'fantastic': 0, 'am...</td>\n",
       "      <td>True</td>\n",
       "      <td>0.939796</td>\n",
       "      <td>1.0</td>\n",
       "    </tr>\n",
       "    <tr>\n",
       "      <th>414</th>\n",
       "      <td>Baby Trend Diaper Champ</td>\n",
       "      <td>We have been using our Diaper Champ for almost...</td>\n",
       "      <td>5</td>\n",
       "      <td>{'awesome': 0, 'great': 0, 'fantastic': 0, 'am...</td>\n",
       "      <td>True</td>\n",
       "      <td>0.806312</td>\n",
       "      <td>1.0</td>\n",
       "    </tr>\n",
       "    <tr>\n",
       "      <th>420</th>\n",
       "      <td>Baby Trend Diaper Champ</td>\n",
       "      <td>Baby Luke can turn a clean diaper to a dirty d...</td>\n",
       "      <td>5</td>\n",
       "      <td>{'awesome': 0, 'great': 0, 'fantastic': 0, 'am...</td>\n",
       "      <td>True</td>\n",
       "      <td>0.806312</td>\n",
       "      <td>1.0</td>\n",
       "    </tr>\n",
       "  </tbody>\n",
       "</table>\n",
       "</div>"
      ],
      "text/plain": [
       "                        name  \\\n",
       "376  Baby Trend Diaper Champ   \n",
       "320  Baby Trend Diaper Champ   \n",
       "451  Baby Trend Diaper Champ   \n",
       "414  Baby Trend Diaper Champ   \n",
       "420  Baby Trend Diaper Champ   \n",
       "\n",
       "                                                review  rating  \\\n",
       "376  This is absolutely, by far, the best diaper pa...       5   \n",
       "320  I originally put this item on my baby registry...       5   \n",
       "451  As a first time mother, I wanted to get the be...       5   \n",
       "414  We have been using our Diaper Champ for almost...       5   \n",
       "420  Baby Luke can turn a clean diaper to a dirty d...       5   \n",
       "\n",
       "                                            word_count  sentiment  \\\n",
       "376  {'awesome': 0, 'great': 0, 'fantastic': 0, 'am...       True   \n",
       "320  {'awesome': 0, 'great': 0, 'fantastic': 0, 'am...       True   \n",
       "451  {'awesome': 0, 'great': 0, 'fantastic': 0, 'am...       True   \n",
       "414  {'awesome': 0, 'great': 0, 'fantastic': 0, 'am...       True   \n",
       "420  {'awesome': 0, 'great': 0, 'fantastic': 0, 'am...       True   \n",
       "\n",
       "     model0_pos_prob  model1_pos_prob  \n",
       "376         0.983203              1.0  \n",
       "320         0.806312              1.0  \n",
       "451         0.939796              1.0  \n",
       "414         0.806312              1.0  \n",
       "420         0.806312              1.0  "
      ]
     },
     "execution_count": 101,
     "metadata": {},
     "output_type": "execute_result"
    }
   ],
   "source": [
    "baby_trend.head()"
   ]
  },
  {
   "cell_type": "code",
   "execution_count": 102,
   "metadata": {},
   "outputs": [
    {
     "data": {
      "text/html": [
       "<div>\n",
       "<style scoped>\n",
       "    .dataframe tbody tr th:only-of-type {\n",
       "        vertical-align: middle;\n",
       "    }\n",
       "\n",
       "    .dataframe tbody tr th {\n",
       "        vertical-align: top;\n",
       "    }\n",
       "\n",
       "    .dataframe thead th {\n",
       "        text-align: right;\n",
       "    }\n",
       "</style>\n",
       "<table border=\"1\" class=\"dataframe\">\n",
       "  <thead>\n",
       "    <tr style=\"text-align: right;\">\n",
       "      <th></th>\n",
       "      <th>name</th>\n",
       "      <th>review</th>\n",
       "      <th>rating</th>\n",
       "      <th>word_count</th>\n",
       "      <th>sentiment</th>\n",
       "      <th>model0_pos_prob</th>\n",
       "      <th>model1_pos_prob</th>\n",
       "    </tr>\n",
       "  </thead>\n",
       "  <tbody>\n",
       "    <tr>\n",
       "      <th>484</th>\n",
       "      <td>Baby Trend Diaper Champ</td>\n",
       "      <td>Worst diaper pale ever!!  I\\'ve had mine for 2...</td>\n",
       "      <td>1</td>\n",
       "      <td>{'awesome': 0, 'great': 0, 'fantastic': 0, 'am...</td>\n",
       "      <td>False</td>\n",
       "      <td>0.806312</td>\n",
       "      <td>0.002219</td>\n",
       "    </tr>\n",
       "    <tr>\n",
       "      <th>550</th>\n",
       "      <td>Baby Trend Diaper Champ</td>\n",
       "      <td>Ok, so the idea of the Diaper Champ is awesome...</td>\n",
       "      <td>1</td>\n",
       "      <td>{'awesome': 0, 'great': 1, 'fantastic': 0, 'am...</td>\n",
       "      <td>False</td>\n",
       "      <td>0.774233</td>\n",
       "      <td>0.001064</td>\n",
       "    </tr>\n",
       "    <tr>\n",
       "      <th>590</th>\n",
       "      <td>Baby Trend Diaper Champ</td>\n",
       "      <td>This product is nice in theory but not all tha...</td>\n",
       "      <td>1</td>\n",
       "      <td>{'awesome': 0, 'great': 0, 'fantastic': 0, 'am...</td>\n",
       "      <td>False</td>\n",
       "      <td>0.806312</td>\n",
       "      <td>0.000742</td>\n",
       "    </tr>\n",
       "    <tr>\n",
       "      <th>489</th>\n",
       "      <td>Baby Trend Diaper Champ</td>\n",
       "      <td>I registered for this product after reading th...</td>\n",
       "      <td>2</td>\n",
       "      <td>{'awesome': 0, 'great': 0, 'fantastic': 0, 'am...</td>\n",
       "      <td>False</td>\n",
       "      <td>0.312328</td>\n",
       "      <td>0.000606</td>\n",
       "    </tr>\n",
       "    <tr>\n",
       "      <th>357</th>\n",
       "      <td>Baby Trend Diaper Champ</td>\n",
       "      <td>This is the worst diaper pail ever!  It was gr...</td>\n",
       "      <td>1</td>\n",
       "      <td>{'awesome': 0, 'great': 1, 'fantastic': 0, 'am...</td>\n",
       "      <td>False</td>\n",
       "      <td>0.898782</td>\n",
       "      <td>0.000317</td>\n",
       "    </tr>\n",
       "  </tbody>\n",
       "</table>\n",
       "</div>"
      ],
      "text/plain": [
       "                        name  \\\n",
       "484  Baby Trend Diaper Champ   \n",
       "550  Baby Trend Diaper Champ   \n",
       "590  Baby Trend Diaper Champ   \n",
       "489  Baby Trend Diaper Champ   \n",
       "357  Baby Trend Diaper Champ   \n",
       "\n",
       "                                                review  rating  \\\n",
       "484  Worst diaper pale ever!!  I\\'ve had mine for 2...       1   \n",
       "550  Ok, so the idea of the Diaper Champ is awesome...       1   \n",
       "590  This product is nice in theory but not all tha...       1   \n",
       "489  I registered for this product after reading th...       2   \n",
       "357  This is the worst diaper pail ever!  It was gr...       1   \n",
       "\n",
       "                                            word_count  sentiment  \\\n",
       "484  {'awesome': 0, 'great': 0, 'fantastic': 0, 'am...      False   \n",
       "550  {'awesome': 0, 'great': 1, 'fantastic': 0, 'am...      False   \n",
       "590  {'awesome': 0, 'great': 0, 'fantastic': 0, 'am...      False   \n",
       "489  {'awesome': 0, 'great': 0, 'fantastic': 0, 'am...      False   \n",
       "357  {'awesome': 0, 'great': 1, 'fantastic': 0, 'am...      False   \n",
       "\n",
       "     model0_pos_prob  model1_pos_prob  \n",
       "484         0.806312         0.002219  \n",
       "550         0.774233         0.001064  \n",
       "590         0.806312         0.000742  \n",
       "489         0.312328         0.000606  \n",
       "357         0.898782         0.000317  "
      ]
     },
     "execution_count": 102,
     "metadata": {},
     "output_type": "execute_result"
    }
   ],
   "source": [
    "baby_trend.tail()"
   ]
  },
  {
   "cell_type": "code",
   "execution_count": 93,
   "metadata": {},
   "outputs": [],
   "source": [
    "contrasting = baby_trend[baby_trend['model1_pos_prob']-baby_trend['model0_pos_prob']>0.3]"
   ]
  },
  {
   "cell_type": "code",
   "execution_count": 94,
   "metadata": {},
   "outputs": [
    {
     "data": {
      "text/html": [
       "<div>\n",
       "<style scoped>\n",
       "    .dataframe tbody tr th:only-of-type {\n",
       "        vertical-align: middle;\n",
       "    }\n",
       "\n",
       "    .dataframe tbody tr th {\n",
       "        vertical-align: top;\n",
       "    }\n",
       "\n",
       "    .dataframe thead th {\n",
       "        text-align: right;\n",
       "    }\n",
       "</style>\n",
       "<table border=\"1\" class=\"dataframe\">\n",
       "  <thead>\n",
       "    <tr style=\"text-align: right;\">\n",
       "      <th></th>\n",
       "      <th>name</th>\n",
       "      <th>review</th>\n",
       "      <th>rating</th>\n",
       "      <th>word_count</th>\n",
       "      <th>sentiment</th>\n",
       "      <th>model0_pos_prob</th>\n",
       "      <th>model1_pos_prob</th>\n",
       "    </tr>\n",
       "  </thead>\n",
       "  <tbody>\n",
       "    <tr>\n",
       "      <th>317</th>\n",
       "      <td>Baby Trend Diaper Champ</td>\n",
       "      <td>Two girlfriends and two family members put me ...</td>\n",
       "      <td>5</td>\n",
       "      <td>{'awesome': 0, 'great': 0, 'fantastic': 0, 'am...</td>\n",
       "      <td>True</td>\n",
       "      <td>0.558528</td>\n",
       "      <td>0.999312</td>\n",
       "    </tr>\n",
       "    <tr>\n",
       "      <th>318</th>\n",
       "      <td>Baby Trend Diaper Champ</td>\n",
       "      <td>I waited to review this until I saw how it per...</td>\n",
       "      <td>4</td>\n",
       "      <td>{'awesome': 0, 'great': 0, 'fantastic': 0, 'am...</td>\n",
       "      <td>True</td>\n",
       "      <td>0.616525</td>\n",
       "      <td>0.997291</td>\n",
       "    </tr>\n",
       "    <tr>\n",
       "      <th>334</th>\n",
       "      <td>Baby Trend Diaper Champ</td>\n",
       "      <td>I recently gave birth to my third child.  When...</td>\n",
       "      <td>5</td>\n",
       "      <td>{'awesome': 0, 'great': 1, 'fantastic': 0, 'am...</td>\n",
       "      <td>True</td>\n",
       "      <td>0.546794</td>\n",
       "      <td>0.999889</td>\n",
       "    </tr>\n",
       "    <tr>\n",
       "      <th>360</th>\n",
       "      <td>Baby Trend Diaper Champ</td>\n",
       "      <td>As new parents, we started out with the Diaper...</td>\n",
       "      <td>5</td>\n",
       "      <td>{'awesome': 0, 'great': 0, 'fantastic': 0, 'am...</td>\n",
       "      <td>True</td>\n",
       "      <td>0.616525</td>\n",
       "      <td>0.998087</td>\n",
       "    </tr>\n",
       "    <tr>\n",
       "      <th>403</th>\n",
       "      <td>Baby Trend Diaper Champ</td>\n",
       "      <td>I agree it\\'s better than the genie.  I own th...</td>\n",
       "      <td>5</td>\n",
       "      <td>{'awesome': 0, 'great': 0, 'fantastic': 0, 'am...</td>\n",
       "      <td>True</td>\n",
       "      <td>0.616525</td>\n",
       "      <td>0.995971</td>\n",
       "    </tr>\n",
       "  </tbody>\n",
       "</table>\n",
       "</div>"
      ],
      "text/plain": [
       "                        name  \\\n",
       "317  Baby Trend Diaper Champ   \n",
       "318  Baby Trend Diaper Champ   \n",
       "334  Baby Trend Diaper Champ   \n",
       "360  Baby Trend Diaper Champ   \n",
       "403  Baby Trend Diaper Champ   \n",
       "\n",
       "                                                review  rating  \\\n",
       "317  Two girlfriends and two family members put me ...       5   \n",
       "318  I waited to review this until I saw how it per...       4   \n",
       "334  I recently gave birth to my third child.  When...       5   \n",
       "360  As new parents, we started out with the Diaper...       5   \n",
       "403  I agree it\\'s better than the genie.  I own th...       5   \n",
       "\n",
       "                                            word_count  sentiment  \\\n",
       "317  {'awesome': 0, 'great': 0, 'fantastic': 0, 'am...       True   \n",
       "318  {'awesome': 0, 'great': 0, 'fantastic': 0, 'am...       True   \n",
       "334  {'awesome': 0, 'great': 1, 'fantastic': 0, 'am...       True   \n",
       "360  {'awesome': 0, 'great': 0, 'fantastic': 0, 'am...       True   \n",
       "403  {'awesome': 0, 'great': 0, 'fantastic': 0, 'am...       True   \n",
       "\n",
       "     model0_pos_prob  model1_pos_prob  \n",
       "317         0.558528         0.999312  \n",
       "318         0.616525         0.997291  \n",
       "334         0.546794         0.999889  \n",
       "360         0.616525         0.998087  \n",
       "403         0.616525         0.995971  "
      ]
     },
     "execution_count": 94,
     "metadata": {},
     "output_type": "execute_result"
    }
   ],
   "source": [
    "contrasting.head()"
   ]
  },
  {
   "cell_type": "code",
   "execution_count": 95,
   "metadata": {},
   "outputs": [
    {
     "data": {
      "text/plain": [
       "13"
      ]
     },
     "execution_count": 95,
     "metadata": {},
     "output_type": "execute_result"
    }
   ],
   "source": [
    "len(contrasting)"
   ]
  },
  {
   "cell_type": "code",
   "execution_count": 98,
   "metadata": {},
   "outputs": [
    {
     "name": "stdout",
     "output_type": "stream",
     "text": [
      "Two girlfriends and two family members put me onto this diaper pail.  They each had tried the Diaper Genie and had horrible results with eventual smells, and costliness of buying proprietary DG cartridges.  My family members eventually started bringing every dirty diaper out to the trash and leaving just wet diapers in the DG, that is until they found out about the Diaper Champ!Wow, what a difference, it seals in orders very well and using normal 8 - 13 gallon trash bags makes it economical.  The ease of use factor is amazing, drop a dirty diaper in the hole, grab the handle, give it a flip, the plunger pushes the diaper down and it drops into the can with a little gravitic help.No wrenching, turning, fighting a cartridge bag system.Opening it for the first time was a little hard, but look at that from a child\\'s point of view, a toddler is not going to get into it, and neither is a dog.  Also, it needs to be away from the wall a little bit, so that it\\'s flip top access lid locks into place and doesn\\'t plop back down, but when engaged, the top will stay open so you can get at the bag of diapers within without having it fall onto your hand.We keep a little can of Oust nearby, spritz it before opening the top, grab the bag at it\\'s neck to close off stinky odors, lift it out, twist it at the top and secure it with a twist-tie, and away we go to the garbage can.  And we take antibacterial wipes and run them around in the plunger area on both sides, voila, it\\'s clean.At 3 months, we change the bag about 1 - 2 times a week.  Maybe as baby grows into larger diapers it will be more like 2 - 3 times a week.Still, that\\'s better than taking every dirty diaper (8 or more a day) outside to the garbage can, especially in a Minnesota winter.\n",
      "\n",
      "\n",
      "I waited to review this until I saw how it performed in the really-stinky-diaper stage.  Now, with my daughter at 1 year and eating lots of solids (and making really stinky diapers), I can happily recommend the diaper champ.  A couple suggestions: 1) as baby\\'s poop gets stinkier, empty more often (at least once a week) and 2) every time you empty, spray with Lysol or similar product and wipe out with antibacterial cleaner.  This second step has kept the plastic from retaining a bad smell.I gave 4 stars because it\\'s not \"perfect\" -- sometimes a little smell leaks out if it\\'s very full.  But all around a good product, and not needing special refill bags is a huge benefit for a busy mom.\n",
      "\n",
      "\n",
      "I recently gave birth to my third child.  When I had my 1st 11 years ago, I got a Diaper Genie and it worked okay, but the stupid refills for it were so expensive that I soon gave up on it.  Not to mention that the \"sausage links\" of diapers it created were pretty gross and I still had to use a garbage bag to dispose of them.  With this baby, I decided to give the Diaper Champ a try.  I LOVE IT!  In fact, I am considering buying one for my church\\'s nursery, after having to smell a pretty foul diaper from one of the other babies there.  I agree with any reviews that suggest using scented garbage bags, as it DOES smell pretty awful when you empty it, and I think the scented bags would help that a little.  So far I have had only a minor complaint, and that is that it can be a little tricky to open sometimes, but overall it\\'s still a great product.  I would definitely buy this again and recommend to a friend.\n",
      "\n",
      "\n",
      "As new parents, we started out with the Diaper Genie because everyone told us that we just *HAD* to have one.  While the Genie did a decent job at keeping the odors inside (except when emptying it!), it was a pain in the neck for older family members to use (e.g. grandparents) and those refill cartridges start to add up after a while!A friend with a child the same age as mine showed me her Diaper Champ and I was thoroughly impressed!  Not only did it do a comparable job at keeping odors inside, it was extremely easy to use and did not require me to spend an additional [$$$] each month on refills.  We decided to go ahead and buy a Diaper Champ because our son was only 13 months old and we figured he\\'d be in diapers for at least another year so we\\'d be saving money after 6 months by not having to buy the refill cartridges.  Then when our twins were born, we were so glad that we had the Champ!  After all, we\\'re already buying tons of diapers, who needs to spend another [$$$] a month on those Genie cartridges?!As for ease of use, my 3.5-year-old son loves throwing the dirty diapers away for me because all you have to do is drop it into the chamber and flip the lid.  It is super easy to empty it too.  And I\\'ve found that if I use scented garbage bags and give the inside a quick spray with Lysol each time I empty it, the smell when emptying it is not as bad as it is with the Genie.I HIGHLY recommend the Diaper Champ!  And even if you already have a Genie, if your child is going to be in diapers for more than 6 more months, go out and get a Champ because you\\'ll be saving money in the long run by not having to buy any more refill cartridges!\n",
      "\n",
      "\n",
      "I agree it\\'s better than the genie.  I own the genie and served us well.  But when I had the chance to use this product at Babies R Us store, I was so impressed.  It\\'s very easy to use, and it seals out the odor as well.  I wanted to get this for our use, but my genie is still in good use.  Too bad, the champ came late, or we should have gotten this instead.\n",
      "\n",
      "\n",
      "We are first time parents but have friends who have young children. We always try to get out of spending the night at their house because the diaper pail in the spare bathroom smells so bad. We took a strangers advice (no one we knew believed in a diaper pail that didn\\'t stink) and we purchased this product. We couldn\\'t be happier. At first we used it for disposable diapers which worked fine, but we were worried about how it was going to hold up when we started using cloth diapers. Our baby is now 3 weeks old and we have been using cloth diapers for 2 weeks and the diaper champ is doing great....no smell, no hassle with bags, no hassle getting the bag out and to the laundry room.Someone else wrote that the product has a design flaw in that the diapers can get stuck in the top. We did run in to that once, it means the diaper champ is full and you need to empty it.\n",
      "\n",
      "\n",
      "My sister had a Diaper Genie and it always smelled really bad. She constantly complained about it so I opted to try the Diaper Champ. Boy am I glad! It is so easy to use especially since you can use regular trashbags vs. genie refills and the diaper is gone w/ a flip of a handle!! My son is 9 months old and we have NO SMELL PROBLEMS!!! I don\\'t know how some people can complain about smells coming from this thing...it\\'s sealed up like Ft. Knox. You never see the inside of the pail until you empty it. The canister pushes the diaper into the trashbag, thus never allowing odors to escape through the pail. I would have to say the only way you may have an odor problem is if you never empty it!!!!!!!!!!\n",
      "\n",
      "\n",
      "It\\'s so much better then the diaper genie. No special bags necessary! Occasionally there are some bad odors but it\\'s nothing that can\\'t be fixed with some febreeze or lysol!\n",
      "\n",
      "\n",
      "This is one of the best things that we got as a shower present. It requires no additional expense, other than regular trash bags (unlike the diaper genie) and it really works! I was skeptical that it blocked odors as claimed, but I am convinced: I forgot to change a full bag of dirty diapers before we left for a week of vacation (we have no a/c and it was really hot that week) ...We came home a week later and our daughter\\'s room didn\\'t smell bad at all.I do use Glad trash bags with the odor guard, wipe it out occasionally with Clorox wipes and I do keep a drier sheet in the bottom of the diaper champ just to ensure that it remains \"nice\" ... but that\\'s more about keeping it clean than anything else.Bottom line, the diaper champ is something that we absolutely couldn\\'t and still can\\'t live without!\n",
      "\n",
      "\n",
      "I got the diaper champ at my baby shower and used it from the begining.  It was wonderful, it didn\\'t smell and it held LOTS of diapers.  I was glad I got it after finding out from my sister that she had to replace her bag from her diaper genie every other day in the begining and then a least 2 times a week when my neice was older.  At $6 a bag I saved a ton of money with this product.  However now that my daughter is a year and on all regular adult foods the diaper champ isn\\'t holding in the smell very well at all.  I\\'ve been replacing the bag every day to prevent the smell from getting too bad but it\\'s a pain to do so I\\'m thinking about getting a different diaper disposal system for now.\n",
      "\n",
      "\n",
      "We heard bad stories about the diaper genie and decided to go on a recommendation for the \"Champ.\"  Boy, are we glad we listened. I go out of my way to bring smelly diapers to the champ instead of walking them outside to the trash bin.  Definitely worth the investment and very easy to use - especially in the middle of the night.\n",
      "\n",
      "\n",
      "I have been using the Diaper Champ for the past three months. It holds lots of diapers and you can stuff it full. I have not smelled any bad odor coming from the pail in my son\\'s room. It is easy to change a new bag, but I would suggest doing it outside. Once you open it up the smell does escape quickly. But, just give a quick wipe with a disenfectant cloth and put in your own garbage bag and you are ready to put it back in the room. I am very happy to have this diaper pail. I recommend it.\n",
      "\n",
      "\n",
      "I\\'ve read all of the reviews of those of you who can\\'t understand why the rest of us hated our Diaper Champs, and I just have to say-give it a while, you\\'ll find out. We bought our Diaper Champ when our first son was born. For pretty much  the first year we LOVED it. Everyone is right, you don\\'t have to spend money on seperate bags, it\\'s a nice height so you don\\'t have to bend over it and it\\'s really easy to use. I think it takes about a year though, or maybe even a little longer, and it will start to reek so bad that you\\'ll want to sleep at the neighbors house just to escape the smell. For all of you who haven\\'t used yours long enough-just wait, it will happen. We scrubbed ours with bleach, we emptied it daily, we aired it out in the backyard for two days, and then we finally started putting every single diaper in ziplock bags before putting them in the diaper champ (so much for no extra bags!). NOTHING helped. I\\'m not stupid, I understand that when it comes to diapers, nothing is smell proof. We emptied it all the time and disinfected it constantly. But I\\'m not talking normal stinky diaper smell. I\\'m talking the combined smell of every stinky diaper in the entire world. It was SO BAD. Unless you plan on potty training your child when he turns one, and good luck with that, you\\'ll probably end up replacing yours before the diaper days are over. In the end we bought a Diaper Genie. We\\'ve used it for two years now and have had no problems. It kinda stinks a little when you open it, but the smell stays in there when it\\'s closed. I\\'ll buy seperate bags any day if I never have to smell that foul Diaper Champ again.\n",
      "\n",
      "\n"
     ]
    }
   ],
   "source": [
    "for a in contrasting['review']:\n",
    "    print(a)\n",
    "    print(\"\\n\")"
   ]
  },
  {
   "attachments": {},
   "cell_type": "markdown",
   "metadata": {},
   "source": [
    "There are certain reviews where model based on selected words fails to capture the idea but the one using complete words captures the idea very well."
   ]
  }
 ],
 "metadata": {
  "kernelspec": {
   "display_name": "basicml",
   "language": "python",
   "name": "python3"
  },
  "language_info": {
   "codemirror_mode": {
    "name": "ipython",
    "version": 3
   },
   "file_extension": ".py",
   "mimetype": "text/x-python",
   "name": "python",
   "nbconvert_exporter": "python",
   "pygments_lexer": "ipython3",
   "version": "3.11.3"
  },
  "orig_nbformat": 4
 },
 "nbformat": 4,
 "nbformat_minor": 2
}
